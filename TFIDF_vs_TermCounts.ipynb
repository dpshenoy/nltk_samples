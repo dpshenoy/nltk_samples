{
 "cells": [
  {
   "cell_type": "markdown",
   "metadata": {},
   "source": [
    "# TFIDF (Term Frequency * Inverse Document Frequency) versus Term Counts\n",
    "\n",
    "This is an example of how TFIDF provides a better idea of how important a term is to a particular document, by comparing its frequency across other documents in a corpus.\n",
    "\n",
    "The corpus is the NLTK's corpus of 9 documents, and the particular document examined is text3, which is the Book of Genesis.\n",
    "\n",
    "This example computes the TFIDF for both God and Jacob in the book of Genesis, and then compares them.  Using TFIDF you can argue that for this particular book (`text3`) Jacob is more important than God since God occurs in many books across the corpus."
   ]
  },
  {
   "cell_type": "code",
   "execution_count": 1,
   "metadata": {},
   "outputs": [
    {
     "name": "stdout",
     "output_type": "stream",
     "text": [
      "*** Introductory Examples for the NLTK Book ***\n",
      "Loading text1, ..., text9 and sent1, ..., sent9\n",
      "Type the name of the text or sentence to view it.\n",
      "Type: 'texts()' or 'sents()' to list the materials.\n",
      "text1: Moby Dick by Herman Melville 1851\n",
      "text2: Sense and Sensibility by Jane Austen 1811\n",
      "text3: The Book of Genesis\n",
      "text4: Inaugural Address Corpus\n",
      "text5: Chat Corpus\n",
      "text6: Monty Python and the Holy Grail\n",
      "text7: Wall Street Journal\n",
      "text8: Personals Corpus\n",
      "text9: The Man Who Was Thursday by G . K . Chesterton 1908\n"
     ]
    }
   ],
   "source": [
    "import string ; import numpy as np\n",
    "from nltk.book import *"
   ]
  },
  {
   "cell_type": "code",
   "execution_count": 2,
   "metadata": {},
   "outputs": [
    {
     "data": {
      "text/plain": [
       "['In', 'the', 'beginning', 'God', 'created', 'the', 'heaven', 'and']"
      ]
     },
     "execution_count": 2,
     "metadata": {},
     "output_type": "execute_result"
    }
   ],
   "source": [
    "# Make a list of the terms (words) in the Book of Genesis, stripped of punctuation\n",
    "terms = [t for t in text3[:] if t not in string.punctuation]\n",
    "terms[:8]"
   ]
  },
  {
   "cell_type": "code",
   "execution_count": 3,
   "metadata": {},
   "outputs": [
    {
     "data": {
      "text/plain": [
       "[('and', 2428),\n",
       " ('the', 2411),\n",
       " ('of', 1358),\n",
       " ('And', 1250),\n",
       " ('his', 651),\n",
       " ('he', 648),\n",
       " ('to', 611),\n",
       " ('unto', 590),\n",
       " ('in', 588),\n",
       " ('that', 509),\n",
       " ('I', 484),\n",
       " ('said', 476),\n",
       " ('him', 387),\n",
       " ('a', 342),\n",
       " ('my', 325),\n",
       " ('was', 317),\n",
       " ('for', 297),\n",
       " ('it', 290),\n",
       " ('with', 289),\n",
       " ('me', 282),\n",
       " ('thou', 272),\n",
       " ('is', 267),\n",
       " ('thy', 267),\n",
       " ('s', 263),\n",
       " ('thee', 257),\n",
       " ('be', 254),\n",
       " ('shall', 253),\n",
       " ('they', 249),\n",
       " ('all', 245),\n",
       " ('God', 231),\n",
       " ('them', 230),\n",
       " ('not', 224),\n",
       " ('which', 198),\n",
       " ('father', 198),\n",
       " ('will', 195),\n",
       " ('land', 184),\n",
       " ('Jacob', 179),\n",
       " ('came', 177),\n",
       " ('her', 173),\n",
       " ('LORD', 166),\n",
       " ('were', 163),\n",
       " ('she', 161),\n",
       " ('from', 157),\n",
       " ('Joseph', 157),\n",
       " ('their', 153),\n",
       " ('son', 152),\n",
       " ('sons', 142),\n",
       " ('upon', 139),\n",
       " ('had', 139),\n",
       " ('have', 132)]"
      ]
     },
     "execution_count": 3,
     "metadata": {},
     "output_type": "execute_result"
    }
   ],
   "source": [
    "# Make a term count and display the top 50 terms in descending order.  \n",
    "# Use a collections.Counter object.\n",
    "from collections import Counter\n",
    "term_count = Counter(terms)\n",
    "\n",
    "# The 50 most common words in Genesis are:\n",
    "term_count.most_common( 50 )"
   ]
  },
  {
   "cell_type": "code",
   "execution_count": 4,
   "metadata": {},
   "outputs": [
    {
     "data": {
      "text/plain": [
       "(2780, 231, 179)"
      ]
     },
     "execution_count": 4,
     "metadata": {},
     "output_type": "execute_result"
    }
   ],
   "source": [
    "'''The very most common words (\"and\", \"the\", etc.) are not very interesting to examine.\n",
    "They occur across all the documents in the corpus (I confirmed), so their IDF will be \n",
    "zero (see formula below), that will be boring.  Instead, note the raw frequency \n",
    "(term counts) of God and Jacob shown above.  Out of the total 2780 words, their \n",
    "raw frequencies suggest that out God may have a slightly more important role than \n",
    "Jacob . . . but we'll see what their respective TFIDF values say.\n",
    "'''\n",
    "len(term_count), term_count['God'], term_count['Jacob']"
   ]
  },
  {
   "cell_type": "code",
   "execution_count": 5,
   "metadata": {
    "collapsed": true
   },
   "outputs": [],
   "source": [
    "God = {} ; Jacob = {}   # empty dicts for storing values"
   ]
  },
  {
   "cell_type": "markdown",
   "metadata": {},
   "source": [
    "## Compute TF"
   ]
  },
  {
   "cell_type": "code",
   "execution_count": 6,
   "metadata": {},
   "outputs": [
    {
     "data": {
      "text/plain": [
       "(231, 179)"
      ]
     },
     "execution_count": 6,
     "metadata": {},
     "output_type": "execute_result"
    }
   ],
   "source": [
    "'''I will use these raw frequencies as their TF (term frequencies) without any \n",
    "further normalizing such as \"augmented\" frequency that would take into account \n",
    "the length of Genesis compared to the other documents in the corpus.  That is \n",
    "because I only care about the relative importance of the terms \"God\" and \"Jacob\"\n",
    "within the document Genesis.  Within all the other documents I only care whether\n",
    "these two terms occur or not, not how often the occur in those other documents.  So:\n",
    "'''\n",
    "God['TF']   = term_count['God']\n",
    "Jacob['TF'] = term_count['Jacob']\n",
    "God['TF'], Jacob['TF']"
   ]
  },
  {
   "cell_type": "markdown",
   "metadata": {},
   "source": [
    "## Compute IDF\n",
    "Across the documents, each term's frequency would be the number of documents the term appears in, divided by the total number of documents.  We want the *INVERSE* of that, because the inverse fraction grows if the term is more *rare* across documents.  If the term is more common across documents, then the fraction $\\longrightarrow$ 1.\n",
    "\n",
    "Formally, define:  IDF = log[ ( total # of documents in corpus ) / ( # of documents the term appears in ) ]\n",
    "\n",
    "Note:  This does not ask how many occurrences of the term appear in a document.  Even a single occurrence is enough to count that document in the denominator.  Maybe in reality a better measure might be to only count a document if the term appears at least a few times in a document.  But for now, I'm proceeding with this standard definition."
   ]
  },
  {
   "cell_type": "code",
   "execution_count": 7,
   "metadata": {},
   "outputs": [
    {
     "name": "stdout",
     "output_type": "stream",
     "text": [
      "In text 1 there are 132 instances of God and   1 instances of Jacob\n",
      "In text 2 there are  10 instances of God and   0 instances of Jacob\n",
      "In text 3 there are 231 instances of God and 179 instances of Jacob\n",
      "In text 4 there are  97 instances of God and   0 instances of Jacob\n",
      "In text 5 there are   1 instances of God and   0 instances of Jacob\n",
      "In text 6 there are  11 instances of God and   0 instances of Jacob\n",
      "In text 7 there are   1 instances of God and   2 instances of Jacob\n",
      "In text 8 there are   0 instances of God and   0 instances of Jacob\n",
      "In text 9 there are  33 instances of God and   0 instances of Jacob\n",
      "\n",
      "God's IDF   = 0.118\n",
      "Jacob's IDF = 1.099\n"
     ]
    }
   ],
   "source": [
    "corpus = text1, text2, text3, text4, text5, text6, text7, text8, text9\n",
    "n_docs = len(corpus)\n",
    "\n",
    "# keep track of how many documents contain \"God\", and how many \"Jacob\"\n",
    "God['docs']   = 0\n",
    "Jacob['docs'] = 0\n",
    "\n",
    "for i, document in enumerate(corpus):\n",
    "    \n",
    "    terms = [t for t in document[:] if t not in string.punctuation]\n",
    "    c = Counter(terms)\n",
    "    print('In text {} there are {:3} instances of God and {:3} instances of Jacob'\n",
    "                .format( str(i+1), c['God'], c['Jacob']))\n",
    "    if c['God']   > 0:   God['docs'] += 1\n",
    "    if c['Jacob'] > 0: Jacob['docs'] += 1\n",
    "\n",
    "# compute IDFs\n",
    "God['IDF']   = np.log( n_docs /   God['docs'] )\n",
    "Jacob['IDF'] = np.log( n_docs / Jacob['docs'] )\n",
    "\n",
    "print(\"\\nGod's IDF   = {:.3f}\".format(God['IDF']))\n",
    "print(\"Jacob's IDF = {:.3f}\".format(Jacob['IDF']))"
   ]
  },
  {
   "cell_type": "code",
   "execution_count": 8,
   "metadata": {},
   "outputs": [
    {
     "name": "stdout",
     "output_type": "stream",
     "text": [
      "\n",
      "God's TFIDF   =  27.2\n",
      "Jacob's TFIDF = 196.7\n",
      "Relative importance (arguably) of Jacob over God in Genesis = Jacob['TFIDF'] / God['TFIDF'] = 7.2\n"
     ]
    }
   ],
   "source": [
    "# Finally, compute TFIDF = TF * IDF\n",
    "God['TFIDF']   =   God['TF'] *   God['IDF']\n",
    "Jacob['TFIDF'] = Jacob['TF'] * Jacob['IDF']\n",
    "\n",
    "print(\"\\nGod's TFIDF   = {:5.1f}\".format(God['TFIDF']))\n",
    "print(\"Jacob's TFIDF = {:5.1f}\".format(Jacob['TFIDF']))\n",
    "print(\"Relative importance (arguably) of Jacob over God in Genesis = \"+\n",
    "      \"Jacob['TFIDF'] / God['TFIDF'] = {:2.1f}\"\n",
    "      .format(Jacob['TFIDF'] / God['TFIDF']))"
   ]
  },
  {
   "cell_type": "markdown",
   "metadata": {},
   "source": [
    "__Conclusion:__  Jacob's TFIDF in Genesis is ~7 times higher than God's, indicating that Jacob arguably plays a particularly important role in `text3`, maybe even more important than God because God is a term that occurs across most books in the corpus while Jacob rarely appears outside `text3`."
   ]
  }
 ],
 "metadata": {
  "kernelspec": {
   "display_name": "Python 3",
   "language": "python",
   "name": "python3"
  },
  "language_info": {
   "codemirror_mode": {
    "name": "ipython",
    "version": 3
   },
   "file_extension": ".py",
   "mimetype": "text/x-python",
   "name": "python",
   "nbconvert_exporter": "python",
   "pygments_lexer": "ipython3",
   "version": "3.6.3"
  }
 },
 "nbformat": 4,
 "nbformat_minor": 1
}
