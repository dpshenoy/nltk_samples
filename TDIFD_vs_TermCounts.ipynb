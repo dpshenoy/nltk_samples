{
 "cells": [
  {
   "cell_type": "markdown",
   "metadata": {},
   "source": [
    "# TFDIF (Term Frequency * Inverse Document Frequency) versus Term Counts\n",
    "### This is an example of how TFIDF provides a better idea of how important a term is to a particular document, by comparing its frequency across other documents in a corpus.\n",
    "### The corpus is the NLTK's corpus of 9 documents.\n",
    "### The particular document examined is text3, which is the Book of Genesis.\n",
    "### This example computes the TFIDF for both God and Jacob in the book of Genesis, and then compares them.  Theology aside, TFIDF argues for Jacob being particularly important to the Book of Genesis, arguably more important that God, given God's greater presence across the corpus."
   ]
  },
  {
   "cell_type": "code",
   "execution_count": null,
   "metadata": {
    "collapsed": false
   },
   "outputs": [],
   "source": [
    "import string ; import numpy as np\n",
    "from nltk.book import *"
   ]
  },
  {
   "cell_type": "code",
   "execution_count": null,
   "metadata": {
    "collapsed": false
   },
   "outputs": [],
   "source": [
    "# Make a list of the terms (words) in the Book of Genesis, stripped of punctuation\n",
    "terms = [t for t in text3[:] if t not in string.punctuation]\n",
    "terms[:8]"
   ]
  },
  {
   "cell_type": "code",
   "execution_count": null,
   "metadata": {
    "collapsed": false
   },
   "outputs": [],
   "source": [
    "# Make a term count and display the top 50 terms in descending order.  \n",
    "# Use a collections.Counter object.\n",
    "from collections import Counter\n",
    "term_count = Counter(terms)\n",
    "\n",
    "# The 50 most common words in Genesis are:\n",
    "term_count.most_common( 50 )"
   ]
  },
  {
   "cell_type": "code",
   "execution_count": null,
   "metadata": {
    "collapsed": false
   },
   "outputs": [],
   "source": [
    "'''The very most common words (\"and\", \"the\", etc.) are not very interesting to examine.\n",
    "They occur across all the documents in the corpus (I confirmed), so their IDF will be \n",
    "zero (see formula below), that will be boring.  Instead, note the raw frequency \n",
    "(term counts) of God and Jacob shown above.  Out of the total 2780 words, their \n",
    "raw frequencies suggest that out God may have a slightly more important role than \n",
    "Jacob . . . but we'll see what their respective TFIDF values say.\n",
    "'''\n",
    "len(term_count), term_count['God'], term_count['Jacob']"
   ]
  },
  {
   "cell_type": "code",
   "execution_count": null,
   "metadata": {
    "collapsed": true
   },
   "outputs": [],
   "source": [
    "God = {} ; Jacob = {}   # empty dicts for storing values"
   ]
  },
  {
   "cell_type": "markdown",
   "metadata": {},
   "source": [
    "## Compute TF"
   ]
  },
  {
   "cell_type": "code",
   "execution_count": null,
   "metadata": {
    "collapsed": false
   },
   "outputs": [],
   "source": [
    "'''I will use these raw frequencies as their TF (term frequencies) without any \n",
    "further normalizing such as \"augmented\" frequency that would take into account \n",
    "the length of Genesis compared to the other documents in the corpus.  That is \n",
    "because I only care about the relative importance of the terms \"God\" and \"Jacob\"\n",
    "within the document Genesis.  Within all the other documents I only care whether\n",
    "these two terms occur or not, not how often the occur in those other documents.  So:\n",
    "'''\n",
    "God['TF']   = term_count['God']\n",
    "Jacob['TF'] = term_count['Jacob']\n",
    "God['TF'], Jacob['TF']"
   ]
  },
  {
   "cell_type": "markdown",
   "metadata": {},
   "source": [
    "## Compute IDF\n",
    "Across the documents, each term's frequency would be the number of documents the term appears in, divided by the total number of documents.  We want the *INVERSE* of that, because the inverse fraction grows if the term is more *rare* across documents.  If the term is more common across documents, then the fraction $\\longrightarrow$ 1.\n",
    "\n",
    "Formally, define:  $IDF = \\log\\left(\\frac{\\mbox{total # of documents in corpus}}{\\mbox{# of documents the term appears in}}\\right)$\n",
    "\n",
    "Note:  This does not ask how many occurrences of the term appear in a document.  Even a single occurrence is enough to count that document in the denominator.  Maybe in reality a better measure might be to only count a document if the term appears at least a few times in a document.  But for now, I'm proceeding with this standard definition."
   ]
  },
  {
   "cell_type": "code",
   "execution_count": null,
   "metadata": {
    "collapsed": false
   },
   "outputs": [],
   "source": [
    "corpus = text1, text2, text3, text4, text5, text6, text7, text8, text9\n",
    "n_docs = len(corpus)\n",
    "\n",
    "# keep track of how many documents contain \"God\", and how many \"Jacob\"\n",
    "God['docs']   = 0\n",
    "Jacob['docs'] = 0\n",
    "\n",
    "for i, document in enumerate(corpus):\n",
    "    \n",
    "    terms = [t for t in document[:] if t not in string.punctuation]\n",
    "    c = Counter(terms)\n",
    "    print('In text {} there are {:3} instances of God and {:3} instances of Jacob'\n",
    "                .format( str(i+1), c['God'], c['Jacob']))\n",
    "    if c['God']   > 0:   God['docs'] += 1\n",
    "    if c['Jacob'] > 0: Jacob['docs'] += 1\n",
    "\n",
    "# compute IDFs\n",
    "God['IDF']   = np.log( n_docs /   God['docs'] )\n",
    "Jacob['IDF'] = np.log( n_docs / Jacob['docs'] )\n",
    "\n",
    "print(\"\\nGod's IDF   = {:.3f}\".format(God['IDF']))\n",
    "print(\"Jacob's IDF = {:.3f}\".format(Jacob['IDF']))"
   ]
  },
  {
   "cell_type": "code",
   "execution_count": null,
   "metadata": {
    "collapsed": false
   },
   "outputs": [],
   "source": [
    "# Finally, compute TFIDF = TF * IDF\n",
    "God['TFIDF']   =   God['TF'] *   God['IDF']\n",
    "Jacob['TFIDF'] = Jacob['TF'] * Jacob['IDF']\n",
    "\n",
    "print(\"\\nGod's TFIDF   = {:5.1f}\".format(God['TFIDF']))\n",
    "print(\"Jacob's TFIDF = {:5.1f}\".format(Jacob['TFIDF']))\n",
    "print(\"Relative importance (arguably) of Jacob over God in Genesis = \"+\n",
    "      \"Jacob['TFIDF'] / God['TFIDF'] = {:2.1f}\"\n",
    "      .format(Jacob['TFIDF'] / God['TFIDF']))"
   ]
  },
  {
   "cell_type": "markdown",
   "metadata": {},
   "source": [
    "### Jacob's TFIDF in Genesis is ~7 times higher than God's, indicating that Jacob arguably plays a particularly important role, even compared to God who surely must have an important role in Genesis."
   ]
  }
 ],
 "metadata": {
  "kernelspec": {
   "display_name": "Python 3",
   "language": "python",
   "name": "python3"
  },
  "language_info": {
   "codemirror_mode": {
    "name": "ipython",
    "version": 3
   },
   "file_extension": ".py",
   "mimetype": "text/x-python",
   "name": "python",
   "nbconvert_exporter": "python",
   "pygments_lexer": "ipython3",
   "version": "3.5.2"
  }
 },
 "nbformat": 4,
 "nbformat_minor": 0
}
